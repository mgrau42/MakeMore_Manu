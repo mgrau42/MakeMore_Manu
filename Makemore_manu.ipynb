{
 "cells": [
  {
   "cell_type": "code",
   "execution_count": 3,
   "id": "dfd007a4",
   "metadata": {},
   "outputs": [],
   "source": [
    "words = open('names.txt', 'r').read().splitlines()"
   ]
  },
  {
   "cell_type": "code",
   "execution_count": 4,
   "id": "b86187d6",
   "metadata": {},
   "outputs": [
    {
     "data": {
      "text/plain": [
       "['emma',\n",
       " 'olivia',\n",
       " 'ava',\n",
       " 'isabella',\n",
       " 'sophia',\n",
       " 'charlotte',\n",
       " 'mia',\n",
       " 'amelia',\n",
       " 'harper',\n",
       " 'evelyn']"
      ]
     },
     "execution_count": 4,
     "metadata": {},
     "output_type": "execute_result"
    }
   ],
   "source": [
    "words[:10]"
   ]
  },
  {
   "cell_type": "code",
   "execution_count": 5,
   "id": "02553b3c",
   "metadata": {},
   "outputs": [
    {
     "data": {
      "text/plain": [
       "32033"
      ]
     },
     "execution_count": 5,
     "metadata": {},
     "output_type": "execute_result"
    }
   ],
   "source": [
    "len(words)"
   ]
  },
  {
   "cell_type": "code",
   "execution_count": 6,
   "id": "fe1b270b",
   "metadata": {},
   "outputs": [
    {
     "data": {
      "text/plain": [
       "2"
      ]
     },
     "execution_count": 6,
     "metadata": {},
     "output_type": "execute_result"
    }
   ],
   "source": [
    "min(len(w) for w in words)"
   ]
  },
  {
   "cell_type": "code",
   "execution_count": 7,
   "id": "c4e3822e",
   "metadata": {},
   "outputs": [
    {
     "data": {
      "text/plain": [
       "15"
      ]
     },
     "execution_count": 7,
     "metadata": {},
     "output_type": "execute_result"
    }
   ],
   "source": [
    "max(len(w) for w in words)"
   ]
  },
  {
   "cell_type": "markdown",
   "id": "17b8e9d7",
   "metadata": {},
   "source": [
    "## Exploring Bigrams in the dataset\n",
    "\n",
    "\n",
    "In machine learning and natural language processing, a bigram is a sequence of two adjacent words in a text. Bigrams are often used to analyze text data and build language models.\n",
    "\n",
    "For example, consider the sentence \"**The quick brown fox jumps over the lazy dog.**\" The bigrams in this sentence would be:\n",
    "\n",
    "- The quick\n",
    "- quick brown\n",
    "- brown fox\n",
    "- fox jumps\n",
    "- jumps over\n",
    "- over the\n",
    "- the lazy\n",
    "- lazy dog\n",
    "\n",
    "Bigrams can be useful in a variety of natural language processing tasks such as text classification, sentiment analysis, and language generation. By analyzing the frequency of bigrams in a text corpus, we can gain insights into the language patterns and use this information to build more accurate language models.\n",
    "\n",
    "In our case we are exploring letters instead of words\n",
    "\n",
    "The following Python code is creating a bigram model for the words in a list called words.\n",
    "\n",
    "The code first creates an empty dictionary called b. Then, for each of the words in the words list (as specified by words[:n]), the code adds start and end tokens to the word and creates a list of characters called chs. The start token S represents the beginning of the word, while the end token E represents the end of the word.\n",
    "\n",
    "Next, the code iterates over pairs of adjacent characters in the chs list using the zip function. For each pair of characters, the code creates a tuple called bigram containing the pair of characters, and then adds 1 to the value associated with this bigram in the b dictionary using the get method. The get method returns the current value associated with the bigram, or 0 if the bigram is not yet in the dictionary.\n",
    "\n",
    "Overall, this code creates a bigram model that counts the frequency of each bigram in the words of the words list. The resulting bigram counts are stored in the b dictionary."
   ]
  },
  {
   "cell_type": "code",
   "execution_count": 12,
   "id": "59bfa6d9",
   "metadata": {},
   "outputs": [],
   "source": [
    "b = {}\n",
    "for w in words[:3]:\n",
    "    chs = ['<S>'] + list(w) + ['<E>']\n",
    "    for ch1, ch2 in zip(chs, chs[1:]):\n",
    "        bigram =(ch1, ch2)\n",
    "        b[bigram] = b.get(bigram, 0) + 1\n",
    "        #print(ch1, ch2)"
   ]
  },
  {
   "cell_type": "code",
   "execution_count": 13,
   "id": "823f4469",
   "metadata": {},
   "outputs": [
    {
     "data": {
      "text/plain": [
       "{('<S>', 'e'): 1,\n",
       " ('e', 'm'): 1,\n",
       " ('m', 'm'): 1,\n",
       " ('m', 'a'): 1,\n",
       " ('a', '<E>'): 3,\n",
       " ('<S>', 'o'): 1,\n",
       " ('o', 'l'): 1,\n",
       " ('l', 'i'): 1,\n",
       " ('i', 'v'): 1,\n",
       " ('v', 'i'): 1,\n",
       " ('i', 'a'): 1,\n",
       " ('<S>', 'a'): 1,\n",
       " ('a', 'v'): 1,\n",
       " ('v', 'a'): 1}"
      ]
     },
     "execution_count": 13,
     "metadata": {},
     "output_type": "execute_result"
    }
   ],
   "source": [
    "b"
   ]
  },
  {
   "cell_type": "code",
   "execution_count": null,
   "id": "8757b5ac",
   "metadata": {},
   "outputs": [],
   "source": []
  }
 ],
 "metadata": {
  "kernelspec": {
   "display_name": "Python 3 (ipykernel)",
   "language": "python",
   "name": "python3"
  },
  "language_info": {
   "codemirror_mode": {
    "name": "ipython",
    "version": 3
   },
   "file_extension": ".py",
   "mimetype": "text/x-python",
   "name": "python",
   "nbconvert_exporter": "python",
   "pygments_lexer": "ipython3",
   "version": "3.11.2"
  }
 },
 "nbformat": 4,
 "nbformat_minor": 5
}
